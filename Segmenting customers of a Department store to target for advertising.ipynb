{
 "cells": [
  {
   "cell_type": "code",
   "execution_count": null,
   "metadata": {},
   "outputs": [],
   "source": [
    "#identigying customers that havent bought in the last three month\n",
    "\n",
    "import pandas as pd\n",
    "import datetime as dt\n",
    "\n",
    "data = pd.read_csv(\"rfm_xmas19.txt\", parse_dates=[\"trans_date\"])\n",
    "group_by_customer = data.groupby(\"customer_id\")\n",
    "last_transaction = group_by_customer[\"trans_date\"].max()\n",
    "\n",
    "best_churn = pd.DataFrame(last_transaction) \n",
    "cutoff_day = dt.datetime(2019,10,16) # date to interpret cutoff point\n",
    "best_churn['churned'] = best_churn['trans_date'].apply(lambda h: 1 if h < cutoff_day else 0)"
   ]
  },
  {
   "cell_type": "code",
   "execution_count": null,
   "metadata": {},
   "outputs": [],
   "source": [
    "# ranking customers according to a threshold\n",
    "#using a waithed sum model\n",
    "\n",
    "best_churn[\"nr_of_transactions\"] = group_by_customer.size() #the number of transactions each customer made\n",
    "best_churn['amount_spent'] = group_by_customer.sum() # the amount of money each customer spent\n",
    "best_churn.drop('trans_date', axis = 1, inplace = True)\n"
   ]
  },
  {
   "cell_type": "code",
   "execution_count": null,
   "metadata": {},
   "outputs": [],
   "source": [
    "#scale the amount spent and the number of transactions with Min-Max feature Sacling\n",
    "best_churn[\"scaled_tran\"] = (best_churn[\"nr_of_transactions\"] \\\n",
    "                             - best_churn[\"nr_of_transactions\"].min()) \\\n",
    "                             / (best_churn[\"nr_of_transactions\"].max() \\\n",
    "                             - best_churn[\"nr_of_transactions\"].min())\n",
    "\n",
    "best_churn[\"scaled_amount\"] = (best_churn[\"amount_spent\"] \\\n",
    "                               -best_churn[\"amount_spent\"].min()) \\\n",
    "                               / (best_churn[\"amount_spent\"].max() \\\n",
    "                               - best_churn[\"amount_spent\"].min())\n",
    "\n",
    "best_churn[\"score\"] = 100*(.5*best_churn[\"scaled_tran\"] \\\n",
    "                           + .5*best_churn[\"scaled_amount\"])\n",
    "\n",
    "best_churn.sort_values(\"score\", inplace=True, ascending=False)\n"
   ]
  }
 ],
 "metadata": {
  "kernelspec": {
   "display_name": "Python 3",
   "language": "python",
   "name": "python3"
  },
  "language_info": {
   "codemirror_mode": {
    "name": "ipython",
    "version": 3
   },
   "file_extension": ".py",
   "mimetype": "text/x-python",
   "name": "python",
   "nbconvert_exporter": "python",
   "pygments_lexer": "ipython3",
   "version": "3.8.5"
  }
 },
 "nbformat": 4,
 "nbformat_minor": 4
}
