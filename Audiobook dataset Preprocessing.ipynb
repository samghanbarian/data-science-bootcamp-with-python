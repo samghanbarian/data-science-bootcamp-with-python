{
 "cells": [
  {
   "cell_type": "code",
   "execution_count": 2,
   "metadata": {},
   "outputs": [
    {
     "name": "stderr",
     "output_type": "stream",
     "text": [
      "<frozen importlib._bootstrap>:219: RuntimeWarning: numpy.ufunc size changed, may indicate binary incompatibility. Expected 192 from C header, got 216 from PyObject\n"
     ]
    }
   ],
   "source": [
    "import numpy as np\n",
    "import pandas as pd\n",
    "import tensorflow as tf\n",
    "from sklearn import preprocessing"
   ]
  },
  {
   "cell_type": "markdown",
   "metadata": {},
   "source": [
    "#### Data"
   ]
  },
  {
   "cell_type": "code",
   "execution_count": 43,
   "metadata": {},
   "outputs": [
    {
     "data": {
      "text/html": [
       "<div>\n",
       "<style scoped>\n",
       "    .dataframe tbody tr th:only-of-type {\n",
       "        vertical-align: middle;\n",
       "    }\n",
       "\n",
       "    .dataframe tbody tr th {\n",
       "        vertical-align: top;\n",
       "    }\n",
       "\n",
       "    .dataframe thead th {\n",
       "        text-align: right;\n",
       "    }\n",
       "</style>\n",
       "<table border=\"1\" class=\"dataframe\">\n",
       "  <thead>\n",
       "    <tr style=\"text-align: right;\">\n",
       "      <th></th>\n",
       "      <th>0</th>\n",
       "      <th>1</th>\n",
       "      <th>2</th>\n",
       "      <th>3</th>\n",
       "      <th>4</th>\n",
       "      <th>5</th>\n",
       "      <th>6</th>\n",
       "      <th>7</th>\n",
       "      <th>8</th>\n",
       "      <th>9</th>\n",
       "      <th>10</th>\n",
       "      <th>11</th>\n",
       "    </tr>\n",
       "  </thead>\n",
       "  <tbody>\n",
       "    <tr>\n",
       "      <th>0</th>\n",
       "      <td>994</td>\n",
       "      <td>1620.0</td>\n",
       "      <td>1620</td>\n",
       "      <td>19.73</td>\n",
       "      <td>19.73</td>\n",
       "      <td>1</td>\n",
       "      <td>10.00</td>\n",
       "      <td>0.99</td>\n",
       "      <td>1603.8</td>\n",
       "      <td>5</td>\n",
       "      <td>92</td>\n",
       "      <td>0</td>\n",
       "    </tr>\n",
       "    <tr>\n",
       "      <th>1</th>\n",
       "      <td>1143</td>\n",
       "      <td>2160.0</td>\n",
       "      <td>2160</td>\n",
       "      <td>5.33</td>\n",
       "      <td>5.33</td>\n",
       "      <td>0</td>\n",
       "      <td>8.91</td>\n",
       "      <td>0.00</td>\n",
       "      <td>0.0</td>\n",
       "      <td>0</td>\n",
       "      <td>0</td>\n",
       "      <td>0</td>\n",
       "    </tr>\n",
       "    <tr>\n",
       "      <th>2</th>\n",
       "      <td>2059</td>\n",
       "      <td>2160.0</td>\n",
       "      <td>2160</td>\n",
       "      <td>5.33</td>\n",
       "      <td>5.33</td>\n",
       "      <td>0</td>\n",
       "      <td>8.91</td>\n",
       "      <td>0.00</td>\n",
       "      <td>0.0</td>\n",
       "      <td>0</td>\n",
       "      <td>388</td>\n",
       "      <td>0</td>\n",
       "    </tr>\n",
       "    <tr>\n",
       "      <th>3</th>\n",
       "      <td>2882</td>\n",
       "      <td>1620.0</td>\n",
       "      <td>1620</td>\n",
       "      <td>5.96</td>\n",
       "      <td>5.96</td>\n",
       "      <td>0</td>\n",
       "      <td>8.91</td>\n",
       "      <td>0.42</td>\n",
       "      <td>680.4</td>\n",
       "      <td>1</td>\n",
       "      <td>129</td>\n",
       "      <td>0</td>\n",
       "    </tr>\n",
       "    <tr>\n",
       "      <th>4</th>\n",
       "      <td>3342</td>\n",
       "      <td>2160.0</td>\n",
       "      <td>2160</td>\n",
       "      <td>5.33</td>\n",
       "      <td>5.33</td>\n",
       "      <td>0</td>\n",
       "      <td>8.91</td>\n",
       "      <td>0.22</td>\n",
       "      <td>475.2</td>\n",
       "      <td>0</td>\n",
       "      <td>361</td>\n",
       "      <td>0</td>\n",
       "    </tr>\n",
       "  </tbody>\n",
       "</table>\n",
       "</div>"
      ],
      "text/plain": [
       "     0       1     2      3      4   5      6     7       8   9    10  11\n",
       "0   994  1620.0  1620  19.73  19.73   1  10.00  0.99  1603.8   5   92   0\n",
       "1  1143  2160.0  2160   5.33   5.33   0   8.91  0.00     0.0   0    0   0\n",
       "2  2059  2160.0  2160   5.33   5.33   0   8.91  0.00     0.0   0  388   0\n",
       "3  2882  1620.0  1620   5.96   5.96   0   8.91  0.42   680.4   1  129   0\n",
       "4  3342  2160.0  2160   5.33   5.33   0   8.91  0.22   475.2   0  361   0"
      ]
     },
     "execution_count": 43,
     "metadata": {},
     "output_type": "execute_result"
    }
   ],
   "source": [
    "csv_data = pd.read_csv('Audiobooks_data.csv',header=None)\n",
    "csv_data.head()\n",
    "target = csv_data.iloc[:,-1]\n",
    "\n",
    "unbalanced_data = csv_data.iloc[:,1:-1]\n",
    "csv_data.shape[0]\n",
    "csv_data.head()"
   ]
  },
  {
   "cell_type": "markdown",
   "metadata": {},
   "source": [
    "### Balancing the Data"
   ]
  },
  {
   "cell_type": "code",
   "execution_count": 51,
   "metadata": {},
   "outputs": [
    {
     "data": {
      "text/plain": [
       "1    2237\n",
       "0    2237\n",
       "Name: 11, dtype: int64"
      ]
     },
     "execution_count": 51,
     "metadata": {},
     "output_type": "execute_result"
    }
   ],
   "source": [
    "row_to_remove = []\n",
    "num_one_targets = int(np.sum(target))\n",
    "num_zero = 0\n",
    "for i in range(unbalanced_data.shape[0]):\n",
    "    if target.iloc[i] == 0:\n",
    "        num_zero +=1\n",
    "        if num_zero > num_one_targets:\n",
    "            row_to_remove.append(i)\n",
    "            \n",
    "unbalanced_data_equal_priors = unbalanced_data.drop(row_to_remove,axis=0)\n",
    "targets_equal_priors = target.drop(row_to_remove,axis=0)\n",
    "targets_equal_priors.value_counts()\n",
    "        "
   ]
  },
  {
   "cell_type": "markdown",
   "metadata": {},
   "source": [
    "### Standardization of Data"
   ]
  },
  {
   "cell_type": "code",
   "execution_count": 52,
   "metadata": {},
   "outputs": [],
   "source": [
    "standard_balanced_data = preprocessing.scale(unbalanced_data_equal_priors)"
   ]
  },
  {
   "cell_type": "markdown",
   "metadata": {},
   "source": [
    "### Data Shuffling"
   ]
  },
  {
   "cell_type": "code",
   "execution_count": 60,
   "metadata": {},
   "outputs": [],
   "source": [
    "shuffled_indices = np.arange(standard_balanced_data.shape[0])\n",
    "np.random.shuffle(shuffled_indices)\n",
    "shuffled_data = standard_balanced_data[shuffled_indices]\n",
    "shuffled_target = targets_equal_priors.iloc[shuffled_indices]"
   ]
  },
  {
   "cell_type": "markdown",
   "metadata": {},
   "source": [
    "### Splitting the Data for Traning, Validation and Testing "
   ]
  },
  {
   "cell_type": "code",
   "execution_count": 62,
   "metadata": {},
   "outputs": [
    {
     "name": "stdout",
     "output_type": "stream",
     "text": [
      "1794 3579 0.501257334450964\n",
      "230 447 0.5145413870246085\n",
      "213 448 0.47544642857142855\n"
     ]
    }
   ],
   "source": [
    "sample_count = shuffled_data.shape[0]\n",
    "\n",
    "train_count = int(.8*sample_count)\n",
    "validation_count = int(.1*sample_count)\n",
    "test_sample_count = sample_count - train_count -validation_count\n",
    "\n",
    "train_set = shuffled_data[:train_count]\n",
    "train_target = shuffled_target.iloc[:train_count]\n",
    "\n",
    "validation_set = shuffled_data[train_count:train_count+validation_count]\n",
    "validation_target = shuffled_target.iloc[train_count:train_count+validation_count]\n",
    "\n",
    "test_set = shuffled_data[train_count+validation_count:]\n",
    "test_target = shuffled_target.iloc[train_count+validation_count:]\n",
    "\n",
    "print(np.sum(train_target), train_count, np.sum(train_target)/train_count)\n",
    "print(np.sum(validation_target), validation_count, np.sum(validation_target)/validation_count)\n",
    "print(np.sum(test_target), test_sample_count, np.sum(test_target)/test_sample_count)"
   ]
  },
  {
   "cell_type": "code",
   "execution_count": 63,
   "metadata": {},
   "outputs": [],
   "source": [
    "np.savez('train_dataset.npz', train_set,train_target)\n",
    "np.savez('validation_dataset.npz',validation_set,validation_target)\n",
    "np.savez('test_datset',test_set,test_target)"
   ]
  },
  {
   "cell_type": "code",
   "execution_count": null,
   "metadata": {},
   "outputs": [],
   "source": []
  }
 ],
 "metadata": {
  "kernelspec": {
   "display_name": "Python 3",
   "language": "python",
   "name": "python3"
  },
  "language_info": {
   "codemirror_mode": {
    "name": "ipython",
    "version": 3
   },
   "file_extension": ".py",
   "mimetype": "text/x-python",
   "name": "python",
   "nbconvert_exporter": "python",
   "pygments_lexer": "ipython3",
   "version": "3.8.5"
  }
 },
 "nbformat": 4,
 "nbformat_minor": 4
}
