{
 "cells": [
  {
   "cell_type": "code",
   "execution_count": null,
   "metadata": {},
   "outputs": [],
   "source": [
    "#the dataset is about basketball players in WNBA and\n",
    "#their metrics in 2016-1017 season\n",
    "#exploring the data set\n",
    "\n",
    "import pandas as pd\n",
    "wnba = pd.read_csv('wnba.csv')\n",
    "print(wnba.head(5))\n",
    "print(wnba.tail(5))\n",
    "wnba.shape\n"
   ]
  },
  {
   "cell_type": "code",
   "execution_count": null,
   "metadata": {},
   "outputs": [],
   "source": [
    "#sampling the dataset and measuring the sampling error\n",
    "parameter = wnba['Games Played'].max()\n",
    "sample = wnba.sample(30, random_state = 1)\n",
    "statistic = sample['Games Played'].max()\n",
    "sampling_error = parameter - statistic"
   ]
  },
  {
   "cell_type": "code",
   "execution_count": null,
   "metadata": {},
   "outputs": [],
   "source": [
    "#working with SRS simple Random Sampling\n",
    "#visualizing the discrepancy between a parameter and its corresponding statistics\n",
    "#in the case of simple random sampling\n",
    "\n",
    "import pandas as pd\n",
    "import matplotlib.pyplot as plt\n",
    "\n",
    "wnba = pd.read_csv('wnba.csv')\n",
    "pts_means = []\n",
    "for n in range(100):\n",
    "    pts_means.append(wnba['PTS'].sample(10, random_state = n).mean())\n",
    "    \n",
    "plt.scatter(range(0,100), pts_means)\n",
    "plt.axhline(wnba['PTS'].mean())\n",
    "\n"
   ]
  },
  {
   "cell_type": "code",
   "execution_count": null,
   "metadata": {},
   "outputs": [],
   "source": [
    "#stratified sampling\n",
    "#stratify the dataset based on player position and then performing SRS on each stratum\n",
    "\n",
    "wnba['points_per_game'] = wnba['PTS']/wnba['Games Played'] #points scored per match\n",
    "\n",
    "pos_dict={}\n",
    "for n in wnba['Pos'].unique():\n",
    "    pos_dict[n] = wnba[wnba['Pos']== n].sample(10, random_state = 0)['points_per_game'].mean()\n",
    "\n",
    "    \n",
    "    #find the position that scores the highest points per game    \n",
    "import operator\n",
    "position_most_points = max(pos_dict.items(), key=operator.itemgetter(1))[0]"
   ]
  },
  {
   "cell_type": "code",
   "execution_count": null,
   "metadata": {},
   "outputs": [],
   "source": [
    "#stratified sampling with respect to proportions in the population\n",
    "\n",
    "#percentage of the games played\n",
    "print(wnba['Games Played'].value_counts(bins = 3, normalize = True) * 100) \n",
    "\n",
    "#sampling strata proportionally by the number of games played\n",
    "wnba['Games Played'].value_counts(bins = 3)\n",
    "stra1 = wnba[wnba['Games Played'] <= 12]\n",
    "stra2 = wnba[ (wnba['Games Played'] <= 22) & (wnba['Games Played'] >12)]\n",
    "stra3 = wnba[wnba['Games Played'] > 22]\n",
    "\n",
    "mean_final_sample =[]\n",
    "for n in range(100):\n",
    "    a = stra1.sample(1, random_state = n)\n",
    "    b = stra2.sample(2, random_state = n)\n",
    "    c = stra3.sample(7, random_state = n)\n",
    "    final_sample = pd.concat([a,b,c])\n",
    "    mean_final_sample.append(final_sample['PTS'].mean())\n",
    "    \n",
    "plt.scatter(range(1,101), mean_final_sample)\n",
    "plt.axhline(wnba['PTS'].mean())"
   ]
  },
  {
   "cell_type": "code",
   "execution_count": null,
   "metadata": {},
   "outputs": [],
   "source": [
    "#cluster sampling\n",
    "\n",
    "cluster =pd.Series(wnba['Team'].unique()).sample(4, random_state = 0)\n",
    "sample = pd.DataFrame()\n",
    "for c in cluster:\n",
    "    sample = sample.append(wnba[wnba['Team'] == c])\n",
    "    \n",
    "    \n",
    "sampling_error_height = wnba['Height'].mean() - sample['Height'].mean()\n",
    "sampling_error_age = wnba['Age'].mean() - sample['Age'].mean()\n",
    "sampling_error_BMI = wnba['BMI'].mean() - sample['BMI'].mean()\n",
    "sampling_error_points = wnba['PTS'].mean() - sample['PTS'].mean()"
   ]
  }
 ],
 "metadata": {
  "kernelspec": {
   "display_name": "Python 3",
   "language": "python",
   "name": "python3"
  },
  "language_info": {
   "codemirror_mode": {
    "name": "ipython",
    "version": 3
   },
   "file_extension": ".py",
   "mimetype": "text/x-python",
   "name": "python",
   "nbconvert_exporter": "python",
   "pygments_lexer": "ipython3",
   "version": "3.8.5"
  }
 },
 "nbformat": 4,
 "nbformat_minor": 4
}
