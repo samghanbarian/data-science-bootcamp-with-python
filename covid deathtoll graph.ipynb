{
 "cells": [
  {
   "cell_type": "code",
   "execution_count": null,
   "metadata": {},
   "outputs": [],
   "source": [
    "#covid cases in dec 2020  display the top 20 countries by number of total deaths\n",
    "import pandas as pd\n",
    "import matplotlib.pyplot as plt\n",
    "\n",
    "top20_deathtoll= pd.read_csv('top20_deathtoll.csv')\n",
    "plt.barh(top20_deathtoll['Country_Other'],top20_deathtoll['Total_Deaths'])\n",
    "plt.show()"
   ]
  },
  {
   "cell_type": "code",
   "execution_count": null,
   "metadata": {},
   "outputs": [],
   "source": [
    "# using oo matplotlib interface for ploting\n",
    "fig, ax = plt.subplots()\n",
    "ax.barh(top20_deathtoll['Country_Other'], top20_deathtoll['Total_Deaths'])\n",
    "plt.show()"
   ]
  },
  {
   "cell_type": "code",
   "execution_count": null,
   "metadata": {},
   "outputs": [],
   "source": [
    "#increasing data-ink ratio\n",
    "import pandas as pd\n",
    "import matplotlib.pyplot as plt\n",
    "\n",
    "top20_deathtoll = pd.read_csv('top20_deathtoll.csv')\n",
    "\n",
    "fig, ax = plt.subplots(figsize=(4.5, 6))\n",
    "ax.barh(top20_deathtoll['Country_Other'],\n",
    "         top20_deathtoll['Total_Deaths'])\n",
    "for e in ['bottom','top', 'left', 'right']:\n",
    "          ax.spines[e].set_visible(False)\n",
    "\n",
    "ax.tick_params(bottom = False, left = False)\n",
    "plt.show()"
   ]
  },
  {
   "cell_type": "code",
   "execution_count": null,
   "metadata": {},
   "outputs": [],
   "source": [
    "# erase redundant data ink\"\n",
    "import pandas as pd\n",
    "import matplotlib.pyplot as plt\n",
    "\n",
    "top20_deathtoll = pd.read_csv('top20_deathtoll.csv')\n",
    "\n",
    "# Initial Code\n",
    "\n",
    "fig, ax = plt.subplots(figsize=(4.5, 6))\n",
    "ax.barh(top20_deathtoll['Country_Other'],\n",
    "        top20_deathtoll['Total_Deaths'] , height = .45)\n",
    "\n",
    "for location in ['left', 'right', 'top', 'bottom']:\n",
    "    ax.spines[location].set_visible(False)\n",
    "ax.tick_params(bottom=False, left=False)\n",
    "ax.set_xticks([0,150000,300000])\n",
    "plt.show()"
   ]
  },
  {
   "cell_type": "code",
   "execution_count": null,
   "metadata": {},
   "outputs": [],
   "source": [
    "# increase readability of the plot\n",
    "import pandas as pd\n",
    "import matplotlib.pyplot as plt\n",
    "\n",
    "top20_deathtoll = pd.read_csv('top20_deathtoll.csv')\n",
    "\n",
    "# Initial Code\n",
    "\n",
    "fig, ax = plt.subplots(figsize=(4.5, 6))\n",
    "ax.barh(top20_deathtoll['Country_Other'],\n",
    "        top20_deathtoll['Total_Deaths'],\n",
    "        height=0.45, color = '#af0b1e')\n",
    "\n",
    "for location in ['left', 'right', 'top', 'bottom']:\n",
    "    ax.spines[location].set_visible(False)\n",
    "ax.tick_params(bottom=False, left=False)\n",
    "ax.set_xticks([0, 150000, 300000])\n",
    "ax.xaxis.tick_top()\n",
    "ax.tick_params(axis = 'x', colors = 'grey')\n",
    "plt.show()"
   ]
  },
  {
   "cell_type": "code",
   "execution_count": null,
   "metadata": {},
   "outputs": [],
   "source": [
    "#adding title and subtitles\n",
    "import pandas as pd\n",
    "import matplotlib.pyplot as plt\n",
    "\n",
    "top20_deathtoll = pd.read_csv('top20_deathtoll.csv')\n",
    "\n",
    "fig, ax = plt.subplots(figsize=(4.5, 6))\n",
    "ax.barh(top20_deathtoll['Country_Other'],\n",
    "        top20_deathtoll['Total_Deaths'],\n",
    "        height=0.45, color='#af0b1e')\n",
    "for location in ['left', 'right', 'top', 'bottom']:\n",
    "    ax.spines[location].set_visible(False)\n",
    "ax.set_xticks([0, 150000, 300000])\n",
    "ax.xaxis.tick_top()\n",
    "ax.tick_params(top=False, left=False)\n",
    "ax.tick_params(axis='x', colors='grey')\n",
    "ax.text(x = -80000, y = 23.5, s = 'The Death Toll Worldwide Is 1.5M+', size = 17,\n",
    "        weight = 'bold') # left allign the title with south africa\n",
    "ax.text(x = -80000, y = 22.5, s = 'Top 20 countries by death toll (December 2020)',\n",
    "        size = 12)\n",
    "plt.show()"
   ]
  },
  {
   "cell_type": "code",
   "execution_count": null,
   "metadata": {},
   "outputs": [],
   "source": [
    "#adding a vertical line to the middle of the plot and left-align the country names\n",
    "\n",
    "import pandas as pd\n",
    "import matplotlib.pyplot as plt\n",
    "\n",
    "top20_deathtoll = pd.read_csv('top20_deathtoll.csv')\n",
    "\n",
    "fig, ax = plt.subplots(figsize=(4.5, 6))\n",
    "ax.barh(top20_deathtoll['Country_Other'],\n",
    "        top20_deathtoll['Total_Deaths'],\n",
    "        height=0.45, color='#af0b1e')\n",
    "for location in ['left', 'right', 'top', 'bottom']:\n",
    "    ax.spines[location].set_visible(False)\n",
    "ax.set_xticks([0, 150000, 300000])\n",
    "ax.xaxis.tick_top()\n",
    "ax.tick_params(top=False, left=False)\n",
    "ax.tick_params(axis='x', colors='grey')\n",
    "ax.text(x=-80000, y=23.5,\n",
    "        s='The Death Toll Worldwide Is 1.5M+',\n",
    "        weight='bold', size=17)\n",
    "ax.text(x=-80000, y=22.5,\n",
    "        s='Top 20 countries by death toll (December 2020)',\n",
    "        size=12)\n",
    "ax.set_yticklabels([]) #removing the ylabels\n",
    "ax.set_xticklabels(['0' , '150,000' , '300,000'])\n",
    "for i, country in zip(range(0,21),top20_deathtoll['Country_Other']): #adding new ylabels left-aligned\n",
    "    ax.text(x = -80000, y = i-.15, s = country)\n",
    "ax.axvline(x = 150000, ymin = .045, c = 'grey', alpha = .5) #adding a vertical line\n",
    "plt.show()"
   ]
  }
 ],
 "metadata": {
  "kernelspec": {
   "display_name": "Python 3",
   "language": "python",
   "name": "python3"
  },
  "language_info": {
   "codemirror_mode": {
    "name": "ipython",
    "version": 3
   },
   "file_extension": ".py",
   "mimetype": "text/x-python",
   "name": "python",
   "nbconvert_exporter": "python",
   "pygments_lexer": "ipython3",
   "version": "3.8.5"
  }
 },
 "nbformat": 4,
 "nbformat_minor": 4
}
